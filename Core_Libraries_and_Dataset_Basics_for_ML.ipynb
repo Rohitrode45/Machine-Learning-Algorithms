{
  "nbformat": 4,
  "nbformat_minor": 0,
  "metadata": {
    "colab": {
      "provenance": [],
      "toc_visible": true
    },
    "kernelspec": {
      "name": "python3",
      "display_name": "Python 3"
    },
    "language_info": {
      "name": "python"
    }
  },
  "cells": [
    {
      "cell_type": "markdown",
      "source": [
        "<h1><strong>Introduction</strong></h1>\n",
        "<h3>This guide covers the core Python libraries for data manipulation and machine learning: NumPy, Pandas, Matplotlib, and Scikit-learn. You’ll learn key commands to handle datasets, perform basic operations, and visualize data, providing a foundation for machine learning tasks like linear regression and support vector machines.</h3>"
      ],
      "metadata": {
        "id": "RnJCcLAYJAwc"
      }
    },
    {
      "cell_type": "code",
      "source": [
        "import pandas as pd\n",
        "\n",
        "# Create a dictionary for the data\n",
        "data = {\n",
        "    'Feature1': [1.5, 2.0, 3.2, 4.1, 5.0, 6.1, 7.3, 8.2, 9.0, 10.1],\n",
        "    'Feature2': [2.3, 3.5, 1.2, 2.8, 3.3, 4.0, 2.1, 3.6, 1.5, 2.9],\n",
        "    'Target': [3.0, 5.0, 4.0, 6.5, 7.0, 8.5, 9.0, 10.5, 12.0, 13.5]\n",
        "}\n",
        "\n",
        "# Create a DataFrame\n",
        "df = pd.DataFrame(data)\n",
        "\n",
        "# Save to CSV\n",
        "df.to_csv('numeric_data.csv', index=False)\n"
      ],
      "metadata": {
        "id": "TffTOp6PK5XJ"
      },
      "execution_count": 45,
      "outputs": []
    },
    {
      "cell_type": "markdown",
      "source": [
        "1. Libraries Overview\n",
        "NumPy: NumPy is a core library for numerical computations in Python. It provides support for large multidimensional arrays and matrices, along with a wide range of mathematical functions to operate on these arrays.\n",
        "\n",
        "Key Commands:"
      ],
      "metadata": {
        "id": "0hlO4t1UJlTO"
      }
    },
    {
      "cell_type": "code",
      "source": [
        "import numpy as np\n",
        "# Create an array\n",
        "arr = np.array([1, 2, 3, 4])\n",
        "\n",
        "# Create an array with random numbers\n",
        "arr_random = np.random.randn(5, 3)\n",
        "\n",
        "# Perform element-wise operations\n",
        "arr_squared = arr ** 2"
      ],
      "metadata": {
        "id": "rhS8ihTtIzXc"
      },
      "execution_count": 46,
      "outputs": []
    },
    {
      "cell_type": "markdown",
      "source": [
        "Pandas: Pandas is widely used for data manipulation and analysis. It provides data structures like DataFrame for working with structured data.\n",
        "\n",
        "Key Commands:\n",
        "\n"
      ],
      "metadata": {
        "id": "U3pdmsjqJ8r_"
      }
    },
    {
      "cell_type": "code",
      "source": [
        "import pandas as pd\n",
        "# Load the dataset containing 'Feature1'\n",
        "df = pd.read_csv('numeric_data.csv') # Changed to 'numeric_data.csv'\n",
        "\n",
        "# Display the first few rows\n",
        "df.head()\n",
        "value = 0\n",
        "# Filter rows based on a condition\n",
        "filtered_df = df[df['Feature1'] > value] # This should work now"
      ],
      "metadata": {
        "collapsed": true,
        "id": "cVC_pkKiKDkN"
      },
      "execution_count": 47,
      "outputs": []
    },
    {
      "cell_type": "markdown",
      "source": [
        "Matplotlib: Matplotlib is a plotting library used to create static, interactive, and animated visualizations in Python.\n",
        "\n",
        "Key Commands:"
      ],
      "metadata": {
        "id": "gMQGMcwzKKhj"
      }
    },
    {
      "cell_type": "code",
      "source": [
        "import matplotlib.pyplot as plt\n",
        "# Plot a basic line graph\n",
        "plt.plot([1, 2, 3, 4], [1, 4, 9, 16])\n",
        "\n",
        "# Scatter plot with labels\n",
        "plt.scatter(df['Feature1'], df['Feature2'], color='red')\n",
        "plt.xlabel('X axis')\n",
        "plt.ylabel('Y axis')\n",
        "plt.show()"
      ],
      "metadata": {
        "colab": {
          "base_uri": "https://localhost:8080/",
          "height": 449
        },
        "id": "F37SgFAPKLSr",
        "outputId": "5671c5b8-bb41-4bbd-aaaf-ff21400c3d7b"
      },
      "execution_count": 48,
      "outputs": [
        {
          "output_type": "display_data",
          "data": {
            "text/plain": [
              "<Figure size 640x480 with 1 Axes>"
            ],
            "image/png": "[encoded data removed]"
          },
          "metadata": {}
        }
      ]
    },
    {
      "cell_type": "markdown",
      "source": [
        "scikit-learn (sklearn): scikit-learn is one of the most popular libraries for implementing machine learning algorithms. It provides a wide range of tools for data preprocessing, model building, and evaluation.\n",
        "\n",
        "Key Commands:"
      ],
      "metadata": {
        "id": "5dg13k9_KM2f"
      }
    },
    {
      "cell_type": "code",
      "source": [
        "from sklearn.linear_model import LinearRegression\n",
        "from sklearn.model_selection import train_test_split\n",
        "# Create a Linear Regression model\n",
        "reg = LinearRegression()\n",
        "\n",
        "# Train the model on a dataset\n",
        "x = df.drop('Feature1', axis=1)\n",
        "y = df['Feature2']\n",
        "x_train, x_test, y_train, y_test = train_test_split(x, y, test_size=0.6, random_state=1)\n",
        "\n",
        "# Fit the model with training data\n",
        "reg.fit(x_train, y_train) # This line is added to train the mode\n",
        "\n",
        "# Make predictions\n",
        "predictions = reg.predict([[23,0]])"
      ],
      "metadata": {
        "colab": {
          "base_uri": "https://localhost:8080/"
        },
        "id": "AwaBQk2dKPex",
        "outputId": "29bc564b-4674-4e62-fc52-4e80e7b55cb0"
      },
      "execution_count": 49,
      "outputs": [
        {
          "output_type": "stream",
          "name": "stderr",
          "text": [
            "/usr/local/lib/python3.10/dist-packages/sklearn/base.py:493: UserWarning: X does not have valid feature names, but LinearRegression was fitted with feature names\n",
            "  warnings.warn(\n"
          ]
        }
      ]
    },
    {
      "source": [
        "from sklearn.linear_model import LinearRegression\n",
        "from sklearn.model_selection import train_test_split\n",
        "# Create a Linear Regression model\n",
        "reg = LinearRegression()\n",
        "\n",
        "# Train the model on a dataset\n",
        "# Drop the 'Gender' column, as it contains non-numerical data\n",
        "x = df.drop(['Feature1','Feature2'], axis=1)  # Modified to drop 'Gender'\n",
        "y = df['Feature2']\n",
        "x_train, x_test, y_train, y_test = train_test_split(x, y, test_size=0.6, random_state=1)\n",
        "\n",
        "# Fit the model with training data\n",
        "reg.fit(x_train, y_train) # This line is added to train the mode\n",
        "\n",
        "# Make predictions\n",
        "# Assuming 'Height' is the first column in x\n",
        "predictions = reg.predict([[23]])  # Replace 23 with the actual height value for prediction"
      ],
      "cell_type": "code",
      "metadata": {
        "colab": {
          "base_uri": "https://localhost:8080/"
        },
        "id": "o7x2uhL-MvJ1",
        "outputId": "7846381f-605b-4eac-b653-a1c162b0e62b"
      },
      "execution_count": 50,
      "outputs": [
        {
          "output_type": "stream",
          "name": "stderr",
          "text": [
            "/usr/local/lib/python3.10/dist-packages/sklearn/base.py:493: UserWarning: X does not have valid feature names, but LinearRegression was fitted with feature names\n",
            "  warnings.warn(\n"
          ]
        }
      ]
    },
    {
      "cell_type": "markdown",
      "source": [
        "2. Dataset and its Manipulation\n",
        "In this guide, you'll mainly be using tabular datasets (e.g., CSV files). These datasets typically consist of rows and columns where each row represents an observation, and each column represents a feature.\n",
        "\n",
        "Key Data Manipulation Techniques:\n",
        "\n",
        "Loading Data: Use pandas to load CSV files into DataFrame objects."
      ],
      "metadata": {
        "id": "Vy-jsr2TKQ71"
      }
    },
    {
      "cell_type": "code",
      "source": [
        "df = pd.read_csv('data.csv')"
      ],
      "metadata": {
        "id": "pZjJwZuDKOeW"
      },
      "execution_count": 51,
      "outputs": []
    },
    {
      "cell_type": "markdown",
      "source": [
        "Inspecting Data: You can use functions like head(), info(), and describe() to explore the structure and summary of the dataset."
      ],
      "metadata": {
        "id": "Xr-ELGFFKb8e"
      }
    },
    {
      "cell_type": "code",
      "source": [
        "df.head()       # View the first 5 rows\n",
        "df.info()       # Get a concise summary of the DataFrame\n",
        "df.describe()   # Get descriptive statistics for numerical columns"
      ],
      "metadata": {
        "colab": {
          "base_uri": "https://localhost:8080/",
          "height": 501
        },
        "id": "qv4DpEcHK0fO",
        "outputId": "2a73338a-a806-4c00-f043-7486ead5ffeb"
      },
      "execution_count": 52,
      "outputs": [
        {
          "output_type": "stream",
          "name": "stdout",
          "text": [
            "<class 'pandas.core.frame.DataFrame'>\n",
            "RangeIndex: 10 entries, 0 to 9\n",
            "Data columns (total 4 columns):\n",
            " #   Column  Non-Null Count  Dtype \n",
            "---  ------  --------------  ----- \n",
            " 0   Age     10 non-null     int64 \n",
            " 1   Height  10 non-null     int64 \n",
            " 2   Weight  10 non-null     int64 \n",
            " 3   Gender  10 non-null     object\n",
            "dtypes: int64(3), object(1)\n",
            "memory usage: 448.0+ bytes\n"
          ]
        },
        {
          "output_type": "execute_result",
          "data": {
            "text/plain": [
              "             Age      Height     Weight\n",
              "count  10.000000   10.000000  10.000000\n",
              "mean   30.000000  167.800000  65.300000\n",
              "std     5.142416    8.586812   9.463967\n",
              "min    22.000000  155.000000  50.000000\n",
              "25%    27.250000  160.500000  58.500000\n",
              "50%    29.500000  167.500000  66.500000\n",
              "75%    32.500000  174.500000  71.500000\n",
              "max    40.000000  180.000000  80.000000"
            ],
            "text/html": [
              "\n",
              "  <div id=\"df-db14173d-4f3d-42de-8169-1622c103d9ea\" class=\"colab-df-container\">\n",
              "    <div>\n",
              "<style scoped>\n",
              "    .dataframe tbody tr th:only-of-type {\n",
              "        vertical-align: middle;\n",
              "    }\n",
              "\n",
              "    .dataframe tbody tr th {\n",
              "        vertical-align: top;\n",
              "    }\n",
              "\n",
              "    .dataframe thead th {\n",
              "        text-align: right;\n",
              "    }\n",
              "</style>\n",
              "<table border=\"1\" class=\"dataframe\">\n",
              "  <thead>\n",
              "    <tr style=\"text-align: right;\">\n",
              "      <th></th>\n",
              "      <th>Age</th>\n",
              "      <th>Height</th>\n",
              "      <th>Weight</th>\n",
              "    </tr>\n",
              "  </thead>\n",
              "  <tbody>\n",
              "    <tr>\n",
              "      <th>count</th>\n",
              "      <td>10.000000</td>\n",
              "      <td>10.000000</td>\n",
              "      <td>10.000000</td>\n",
              "    </tr>\n",
              "    <tr>\n",
              "      <th>mean</th>\n",
              "      <td>30.000000</td>\n",
              "      <td>167.800000</td>\n",
              "      <td>65.300000</td>\n",
              "    </tr>\n",
              "    <tr>\n",
              "      <th>std</th>\n",
              "      <td>5.142416</td>\n",
              "      <td>8.586812</td>\n",
              "      <td>9.463967</td>\n",
              "    </tr>\n",
              "    <tr>\n",
              "      <th>min</th>\n",
              "      <td>22.000000</td>\n",
              "      <td>155.000000</td>\n",
              "      <td>50.000000</td>\n",
              "    </tr>\n",
              "    <tr>\n",
              "      <th>25%</th>\n",
              "      <td>27.250000</td>\n",
              "      <td>160.500000</td>\n",
              "      <td>58.500000</td>\n",
              "    </tr>\n",
              "    <tr>\n",
              "      <th>50%</th>\n",
              "      <td>29.500000</td>\n",
              "      <td>167.500000</td>\n",
              "      <td>66.500000</td>\n",
              "    </tr>\n",
              "    <tr>\n",
              "      <th>75%</th>\n",
              "      <td>32.500000</td>\n",
              "      <td>174.500000</td>\n",
              "      <td>71.500000</td>\n",
              "    </tr>\n",
              "    <tr>\n",
              "      <th>max</th>\n",
              "      <td>40.000000</td>\n",
              "      <td>180.000000</td>\n",
              "      <td>80.000000</td>\n",
              "    </tr>\n",
              "  </tbody>\n",
              "</table>\n",
              "</div>\n",
              "    <div class=\"colab-df-buttons\">\n",
              "\n",
              "  <div class=\"colab-df-container\">\n",
              "    <button class=\"colab-df-convert\" onclick=\"convertToInteractive('df-db14173d-4f3d-42de-8169-1622c103d9ea')\"\n",
              "            title=\"Convert this dataframe to an interactive table.\"\n",
              "            style=\"display:none;\">\n",
              "\n",
              "  <svg xmlns=\"http://www.w3.org/2000/svg\" height=\"24px\" viewBox=\"0 -960 960 960\">\n",
              "    <path d=\"M120-120v-720h720v720H120Zm60-500h600v-160H180v160Zm220 220h160v-160H400v160Zm0 220h160v-160H400v160ZM180-400h160v-160H180v160Zm440 0h160v-160H620v160ZM180-180h160v-160H180v160Zm440 0h160v-160H620v160Z\"/>\n",
              "  </svg>\n",
              "    </button>\n",
              "\n",
              "  <style>\n",
              "    .colab-df-container {\n",
              "      display:flex;\n",
              "      gap: 12px;\n",
              "    }\n",
              "\n",
              "    .colab-df-convert {\n",
              "      background-color: #E8F0FE;\n",
              "      border: none;\n",
              "      border-radius: 50%;\n",
              "      cursor: pointer;\n",
              "      display: none;\n",
              "      fill: #1967D2;\n",
              "      height: 32px;\n",
              "      padding: 0 0 0 0;\n",
              "      width: 32px;\n",
              "    }\n",
              "\n",
              "    .colab-df-convert:hover {\n",
              "      background-color: #E2EBFA;\n",
              "      box-shadow: 0px 1px 2px rgba(60, 64, 67, 0.3), 0px 1px 3px 1px rgba(60, 64, 67, 0.15);\n",
              "      fill: #174EA6;\n",
              "    }\n",
              "\n",
              "    .colab-df-buttons div {\n",
              "      margin-bottom: 4px;\n",
              "    }\n",
              "\n",
              "    [theme=dark] .colab-df-convert {\n",
              "      background-color: #3B4455;\n",
              "      fill: #D2E3FC;\n",
              "    }\n",
              "\n",
              "    [theme=dark] .colab-df-convert:hover {\n",
              "      background-color: #434B5C;\n",
              "      box-shadow: 0px 1px 3px 1px rgba(0, 0, 0, 0.15);\n",
              "      filter: drop-shadow(0px 1px 2px rgba(0, 0, 0, 0.3));\n",
              "      fill: #FFFFFF;\n",
              "    }\n",
              "  </style>\n",
              "\n",
              "    <script>\n",
              "      const buttonEl =\n",
              "        document.querySelector('#df-db14173d-4f3d-42de-8169-1622c103d9ea button.colab-df-convert');\n",
              "      buttonEl.style.display =\n",
              "        google.colab.kernel.accessAllowed ? 'block' : 'none';\n",
              "\n",
              "      async function convertToInteractive(key) {\n",
              "        const element = document.querySelector('#df-db14173d-4f3d-42de-8169-1622c103d9ea');\n",
              "        const dataTable =\n",
              "          await google.colab.kernel.invokeFunction('convertToInteractive',\n",
              "                                                    [key], {});\n",
              "        if (!dataTable) return;\n",
              "\n",
              "        const docLinkHtml = 'Like what you see? Visit the ' +\n",
              "          '<a target=\"_blank\" href=https://colab.research.google.com/notebooks/data_table.ipynb>data table notebook</a>'\n",
              "          + ' to learn more about interactive tables.';\n",
              "        element.innerHTML = '';\n",
              "        dataTable['output_type'] = 'display_data';\n",
              "        await google.colab.output.renderOutput(dataTable, element);\n",
              "        const docLink = document.createElement('div');\n",
              "        docLink.innerHTML = docLinkHtml;\n",
              "        element.appendChild(docLink);\n",
              "      }\n",
              "    </script>\n",
              "  </div>\n",
              "\n",
              "\n",
              "<div id=\"df-68675292-7ba2-42a1-a007-3544bc8c7f0f\">\n",
              "  <button class=\"colab-df-quickchart\" onclick=\"quickchart('df-68675292-7ba2-42a1-a007-3544bc8c7f0f')\"\n",
              "            title=\"Suggest charts\"\n",
              "            style=\"display:none;\">\n",
              "\n",
              "<svg xmlns=\"http://www.w3.org/2000/svg\" height=\"24px\"viewBox=\"0 0 24 24\"\n",
              "     width=\"24px\">\n",
              "    <g>\n",
              "        <path d=\"M19 3H5c-1.1 0-2 .9-2 2v14c0 1.1.9 2 2 2h14c1.1 0 2-.9 2-2V5c0-1.1-.9-2-2-2zM9 17H7v-7h2v7zm4 0h-2V7h2v10zm4 0h-2v-4h2v4z\"/>\n",
              "    </g>\n",
              "</svg>\n",
              "  </button>\n",
              "\n",
              "<style>\n",
              "  .colab-df-quickchart {\n",
              "      --bg-color: #E8F0FE;\n",
              "      --fill-color: #1967D2;\n",
              "      --hover-bg-color: #E2EBFA;\n",
              "      --hover-fill-color: #174EA6;\n",
              "      --disabled-fill-color: #AAA;\n",
              "      --disabled-bg-color: #DDD;\n",
              "  }\n",
              "\n",
              "  [theme=dark] .colab-df-quickchart {\n",
              "      --bg-color: #3B4455;\n",
              "      --fill-color: #D2E3FC;\n",
              "      --hover-bg-color: #434B5C;\n",
              "      --hover-fill-color: #FFFFFF;\n",
              "      --disabled-bg-color: #3B4455;\n",
              "      --disabled-fill-color: #666;\n",
              "  }\n",
              "\n",
              "  .colab-df-quickchart {\n",
              "    background-color: var(--bg-color);\n",
              "    border: none;\n",
              "    border-radius: 50%;\n",
              "    cursor: pointer;\n",
              "    display: none;\n",
              "    fill: var(--fill-color);\n",
              "    height: 32px;\n",
              "    padding: 0;\n",
              "    width: 32px;\n",
              "  }\n",
              "\n",
              "  .colab-df-quickchart:hover {\n",
              "    background-color: var(--hover-bg-color);\n",
              "    box-shadow: 0 1px 2px rgba(60, 64, 67, 0.3), 0 1px 3px 1px rgba(60, 64, 67, 0.15);\n",
              "    fill: var(--button-hover-fill-color);\n",
              "  }\n",
              "\n",
              "  .colab-df-quickchart-complete:disabled,\n",
              "  .colab-df-quickchart-complete:disabled:hover {\n",
              "    background-color: var(--disabled-bg-color);\n",
              "    fill: var(--disabled-fill-color);\n",
              "    box-shadow: none;\n",
              "  }\n",
              "\n",
              "  .colab-df-spinner {\n",
              "    border: 2px solid var(--fill-color);\n",
              "    border-color: transparent;\n",
              "    border-bottom-color: var(--fill-color);\n",
              "    animation:\n",
              "      spin 1s steps(1) infinite;\n",
              "  }\n",
              "\n",
              "  @keyframes spin {\n",
              "    0% {\n",
              "      border-color: transparent;\n",
              "      border-bottom-color: var(--fill-color);\n",
              "      border-left-color: var(--fill-color);\n",
              "    }\n",
              "    20% {\n",
              "      border-color: transparent;\n",
              "      border-left-color: var(--fill-color);\n",
              "      border-top-color: var(--fill-color);\n",
              "    }\n",
              "    30% {\n",
              "      border-color: transparent;\n",
              "      border-left-color: var(--fill-color);\n",
              "      border-top-color: var(--fill-color);\n",
              "      border-right-color: var(--fill-color);\n",
              "    }\n",
              "    40% {\n",
              "      border-color: transparent;\n",
              "      border-right-color: var(--fill-color);\n",
              "      border-top-color: var(--fill-color);\n",
              "    }\n",
              "    60% {\n",
              "      border-color: transparent;\n",
              "      border-right-color: var(--fill-color);\n",
              "    }\n",
              "    80% {\n",
              "      border-color: transparent;\n",
              "      border-right-color: var(--fill-color);\n",
              "      border-bottom-color: var(--fill-color);\n",
              "    }\n",
              "    90% {\n",
              "      border-color: transparent;\n",
              "      border-bottom-color: var(--fill-color);\n",
              "    }\n",
              "  }\n",
              "</style>\n",
              "\n",
              "  <script>\n",
              "    async function quickchart(key) {\n",
              "      const quickchartButtonEl =\n",
              "        document.querySelector('#' + key + ' button');\n",
              "      quickchartButtonEl.disabled = true;  // To prevent multiple clicks.\n",
              "      quickchartButtonEl.classList.add('colab-df-spinner');\n",
              "      try {\n",
              "        const charts = await google.colab.kernel.invokeFunction(\n",
              "            'suggestCharts', [key], {});\n",
              "      } catch (error) {\n",
              "        console.error('Error during call to suggestCharts:', error);\n",
              "      }\n",
              "      quickchartButtonEl.classList.remove('colab-df-spinner');\n",
              "      quickchartButtonEl.classList.add('colab-df-quickchart-complete');\n",
              "    }\n",
              "    (() => {\n",
              "      let quickchartButtonEl =\n",
              "        document.querySelector('#df-68675292-7ba2-42a1-a007-3544bc8c7f0f button');\n",
              "      quickchartButtonEl.style.display =\n",
              "        google.colab.kernel.accessAllowed ? 'block' : 'none';\n",
              "    })();\n",
              "  </script>\n",
              "</div>\n",
              "\n",
              "    </div>\n",
              "  </div>\n"
            ],
            "application/vnd.google.colaboratory.intrinsic+json": {
              "type": "dataframe",
              "summary": "{\n  \"name\": \"df\",\n  \"rows\": 8,\n  \"fields\": [\n    {\n      \"column\": \"Age\",\n      \"properties\": {\n        \"dtype\": \"number\",\n        \"std\": 11.700178884462828,\n        \"min\": 5.14241620684717,\n        \"max\": 40.0,\n        \"num_unique_values\": 8,\n        \"samples\": [\n          30.0,\n          29.5,\n          10.0\n        ],\n        \"semantic_type\": \"\",\n        \"description\": \"\"\n      }\n    },\n    {\n      \"column\": \"Height\",\n      \"properties\": {\n        \"dtype\": \"number\",\n        \"std\": 73.65876726411028,\n        \"min\": 8.586811592979862,\n        \"max\": 180.0,\n        \"num_unique_values\": 8,\n        \"samples\": [\n          167.8,\n          167.5,\n          10.0\n        ],\n        \"semantic_type\": \"\",\n        \"description\": \"\"\n      }\n    },\n    {\n      \"column\": \"Weight\",\n      \"properties\": {\n        \"dtype\": \"number\",\n        \"std\": 27.171808849776134,\n        \"min\": 9.463966751139115,\n        \"max\": 80.0,\n        \"num_unique_values\": 8,\n        \"samples\": [\n          65.3,\n          66.5,\n          10.0\n        ],\n        \"semantic_type\": \"\",\n        \"description\": \"\"\n      }\n    }\n  ]\n}"
            }
          },
          "metadata": {},
          "execution_count": 52
        }
      ]
    }
  ]
}