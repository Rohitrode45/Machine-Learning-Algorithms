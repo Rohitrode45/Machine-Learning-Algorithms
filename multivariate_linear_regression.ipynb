{
 "cells": [
  {
   "cell_type": "markdown",
   "id": "9310dfc2",
   "metadata": {},
   "source": [
    "## Multivariate Linear Regression in Python\n",
    "In this notebook, we will perform a multivariate linear regression analysis to predict income based on age and experience using a given dataset.\n",
    "\n",
    "We will go through the following steps:\n",
    "1. Import the necessary libraries.\n",
    "2. Load and inspect the dataset.\n",
    "3. Train a linear regression model using age and experience as features.\n",
    "4. Make predictions for new data points.\n"
   ]
  },
  {
   "cell_type": "markdown",
   "id": "3572384e",
   "metadata": {},
   "source": [
    "### Step 1: Importing Libraries\n",
    "In this block of code, we import `pandas` to manage the dataset and `LinearRegression` from the `sklearn` library to build and train our model.\n"
   ]
  },
  {
   "cell_type": "code",
   "execution_count": null,
   "id": "2fa73f87",
   "metadata": {},
   "outputs": [],
   "source": [
    "# Step 1: Import the necessary libraries\n",
    "# We need pandas for data handling and sklearn's LinearRegression for modeling\n",
    "import pandas as pd\n",
    "from sklearn.linear_model import LinearRegression\n"
   ]
  },
  {
   "cell_type": "markdown",
   "id": "5c399aca",
   "metadata": {},
   "source": [
    "### Step 2: Loading the Dataset\n",
    "We load the dataset containing age, experience, and income using the `pandas.read_csv()` function and display the first few rows using the `head()` method to inspect the data.\n"
   ]
  },
  {
   "cell_type": "code",
   "execution_count": null,
   "id": "58db1829",
   "metadata": {},
   "outputs": [],
   "source": [
    "# Step 2: Load the dataset\n",
    "# Assuming the dataset file is uploaded in Colab, we'll load it using pandas\n",
    "df = pd.read_csv('multiple_linear_regression_dataset.csv')\n",
    "\n",
    "# Display the first few rows of the dataset to understand its structure\n",
    "df.head()\n"
   ]
  },
  {
   "cell_type": "markdown",
   "id": "58c1dc79",
   "metadata": {},
   "source": [
    "### Step 3: Defining Features and Target Variable\n",
    "Here, we define the independent variables (features) `age` and `experience`, and the dependent variable (target) `income` for our regression model.\n"
   ]
  },
  {
   "cell_type": "code",
   "execution_count": null,
   "id": "088c8024",
   "metadata": {},
   "outputs": [],
   "source": [
    "# Step 3: Define the features (X) and the target variable (y)\n",
    "X = df[['age', 'experience']]  # Features: age and experience\n",
    "y = df['income']               # Target: income\n"
   ]
  },
  {
   "cell_type": "markdown",
   "id": "1380c2fa",
   "metadata": {},
   "source": [
    "### Step 4: Training the Linear Regression Model\n",
    "In this step, we create a `LinearRegression` model and fit it using our features (age and experience) to predict income. We then display the model's coefficients and intercept, which are used in the prediction equation.\n"
   ]
  },
  {
   "cell_type": "code",
   "execution_count": null,
   "id": "041e0f45",
   "metadata": {},
   "outputs": [],
   "source": [
    "# Step 4: Create and train the linear regression model\n",
    "reg = LinearRegression()\n",
    "reg.fit(X, y)\n",
    "\n",
    "# Display the model's coefficients and intercept\n",
    "reg.coef_, reg.intercept_\n"
   ]
  },
  {
   "cell_type": "markdown",
   "id": "092fed1d",
   "metadata": {},
   "source": [
    "### Step 5: Making Predictions\n",
    "We use the trained model to predict the income for:\n",
    "1. A person aged 40 with 10 years of experience.\n",
    "2. A person aged 30 with 5 years of experience.\n",
    "\n",
    "The `predict()` function computes the estimated income based on the features we provide.\n"
   ]
  },
  {
   "cell_type": "code",
   "execution_count": null,
   "id": "a07a13dd",
   "metadata": {},
   "outputs": [],
   "source": [
    "# Step 5: Making predictions using the trained model\n",
    "# Predict income for a 40-year-old with 10 years of experience\n",
    "predicted_income_1 = reg.predict([[40, 10]])\n",
    "\n",
    "# Predict income for a 30-year-old with 5 years of experience\n",
    "predicted_income_2 = reg.predict([[30, 5]])\n",
    "\n",
    "predicted_income_1, predicted_income_2\n"
   ]
  }
 ],
 "metadata": {},
 "nbformat": 4,
 "nbformat_minor": 5
}
